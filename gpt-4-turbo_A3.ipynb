{
 "cells": [
  {
   "cell_type": "code",
   "execution_count": 40,
   "metadata": {},
   "outputs": [
    {
     "name": "stdout",
     "output_type": "stream",
     "text": [
      "{'id': 'chatcmpl-9HW8kUZbda2y9uOwqR6PYd3Tnkp8N', 'object': 'chat.completion', 'created': 1713962150, 'model': 'gpt-4-turbo-2024-04-09', 'choices': [{'index': 0, 'message': {'role': 'assistant', 'content': '以下の情報をCSV形式で出力します：\\n\\n```\\n発注番号,F,紙質,巾,流れ,丁取り,罫線,枚数,納期,備考\\n250242,W,K5SK5,1250,1250,不明,不明,17,1/19,不明\\n250243,A,K5K5,1250,1240,不明,不明,17,1/19,不明\\n250244,A,K5K5,1200,1550,不明,(124+340+124)=588,101,1/19,不明\\n250245,A,K5K5,1300,1772,不明,不明,12,1/19,不明\\n250246,A,K5K5,1350,995,不明,不明,21,1/19,不明\\n250248,W,C5SC5,1250,1507,不明,不明,16,1/19,不明\\n```\\n\\nこの出力において、紙質を英字の種類で、枚数を整数で、納期を特定のフォーマットで正確に抽出しています。また、不明な情報は\"不明\"と記載してあります。提供された情報と照らし合わせた結果、これが最も信頼性の高い出力だと判断します。'}, 'logprobs': None, 'finish_reason': 'stop'}], 'usage': {'prompt_tokens': 15587, 'completion_tokens': 349, 'total_tokens': 15936}, 'system_fingerprint': 'fp_67e6987839'}\n"
     ]
    }
   ],
   "source": [
    "#A3\n",
    "\n",
    "# 画像とテキストの両方を入力として渡す\n",
    "import base64\n",
    "import requests\n",
    "import os\n",
    "from openai import OpenAI\n",
    "import openai\n",
    "import json\n",
    "\n",
    "# OpenAI API Key\n",
    "api_key = os.getenv('OPENAI_API_KEY_NEW')\n",
    "\n",
    "# 関数：画像をエンコードする\n",
    "def encode_image(image_path):\n",
    "    with open(image_path, \"rb\") as image_file:\n",
    "        return base64.b64encode(image_file.read()).decode('utf-8')\n",
    "\n",
    "# 画像のパス\n",
    "image_path = \"20240118081021110.jpg\"\n",
    "\n",
    "# 画像をbase64にエンコード\n",
    "base64_image = encode_image(image_path)\n",
    "\n",
    "headers = {\n",
    "    \"Content-Type\": \"application/json\",\n",
    "    \"Authorization\": f\"Bearer {api_key}\"\n",
    "}\n",
    "\n",
    "# JSONファイルを読み込む\n",
    "with open('20240118081021110_0.json', 'r', encoding='utf-8') as file:\n",
    "    prompt = json.load(file)\n",
    "\n",
    "payload = {\n",
    "    \"model\": \"gpt-4-turbo\",\n",
    "    \"messages\": [\n",
    "        {\n",
    "            \"role\": \"user\",\n",
    "            \"content\": [\n",
    "                {\n",
    "                    \"type\": \"text\",\n",
    "                    \"text\": f\"{prompt}\"\n",
    "                },\n",
    "                {\n",
    "                    \"type\": \"image_url\",\n",
    "                    \"image_url\": {\n",
    "                        \"url\": f\"data:image/jpeg;base64,{base64_image}\"\n",
    "                    }\n",
    "                }\n",
    "            ]\n",
    "        },\n",
    "        {\"role\": \"system\", \"content\": \n",
    "\"\"\"\n",
    "\n",
    "## 依頼するタスク ##\n",
    "１．所定の「項目」が存在する場合に限りそれを抽出してください。\n",
    "２．それぞれの項目について、抽出結果の信頼性（％）を評価して下さい。\n",
    "３．抽出した項目は、所定の「出力形式」に従って整形してください。\n",
    "４．読み取った一番上の行の形式を踏襲して、それ以降下の行も読み取っていってください。\n",
    "\n",
    "\n",
    "## 抽出する項目 ##\n",
    "発注番号\n",
    "F\n",
    "紙質\n",
    "巾\n",
    "流れ\n",
    "丁取り\n",
    "罫線\n",
    "枚数\n",
    "納期\n",
    "備考\n",
    "\n",
    "## 出力形式 ##\n",
    "- 項目の抽出結果はcsv形式で出力してください。\n",
    "- 表の足りない部分は\"不明\"で埋めて下さい。\n",
    "\n",
    "## 指示とアドバイス ##\n",
    "- ステップバイステップで考えてください。\n",
    "- 深呼吸して考えてください。\n",
    "- この分析は私のキャリアにとってとても重要です。\n",
    "- 自分の能力を信じて、もっと上を目指してください。\n",
    "- このタスクにおいて、最高の結果を出すために、追加の情報が必要な場合は、逆質問をしてください。\n",
    "- 不明確な項目は\"不明\"と出力すること\n",
    "- 数値は整数で出力すること。\n",
    "- 整数に小数点がついてる場合は切り捨てること。\n",
    "- 罫線の列は例えば、\"158/145/158\"もしくは\"(158+145+158=461)\"のようになっていることが多いです。これを認識してください。\n",
    "- 丁取りは項目としてない場合も多いです。\n",
    "- 丁取りは1桁の整数であることに注意してください。\n",
    "- 出力するjsonデータが複数ある場合は信憑性の最も高いものを1つだけ出力して下さい。\n",
    "- \"スリッタ寸法\"というカラムがある場合、それは\"罫線\"と解釈してください。\n",
    "- \"F\"と\"フルート\"は同じと解釈してください。\n",
    "- \"F\"または\"フルート\"のカラムは\"A\"か\"B\"か\"W\"の３つのいずれかでしかありません。したがってそれ以外のものを認識しようとしている場合それは間違いです。\n",
    "- \"KSSK5\"や\"KSK5\"や\"C5SC5\"などは\"紙質\"を意味します。\n",
    "- \"納期\"は例えば\"1/19\"などの形式で書かれていることが多いです。\n",
    "- \"枚数\"と\"数量\"は同じ意味と解釈して、\"枚数\"として出力して下さい。\n",
    "- \"1250x1240\"は基本\"巾x流れ\"を表しています。この場合は巾:1250、流れ:1240のようにしてください。\n",
    "- 抽出する項目は順不同である。最も妥当な項目に内容が対応するように読み取ってください。\n",
    "- 入力の画像に例えば\"No.\"の項目がない場合これは出力しないものとする。\n",
    "- このタスクにおいて、最高の結果を出すために、追加の情報が必要な場合は、逆質問をしてください。\n",
    "- 複数行ある場合は1行1行注意してすべての行を出力してください。\n",
    "\"\"\" \n",
    "\n",
    "    \n",
    "    }\n",
    "\n",
    "        \n",
    "    ],\n",
    "    \"max_tokens\": 1200\n",
    "}\n",
    "\n",
    "response = requests.post(\"https://api.openai.com/v1/chat/completions\", headers=headers, json=payload)\n",
    "\n",
    "print(response.json())"
   ]
  },
  {
   "cell_type": "code",
   "execution_count": 42,
   "metadata": {},
   "outputs": [
    {
     "ename": "AttributeError",
     "evalue": "module 'pandas.compat' has no attribute 'StringIO'",
     "output_type": "error",
     "traceback": [
      "\u001b[1;31m---------------------------------------------------------------------------\u001b[0m",
      "\u001b[1;31mAttributeError\u001b[0m                            Traceback (most recent call last)",
      "Cell \u001b[1;32mIn[42], line 15\u001b[0m\n\u001b[0;32m      4\u001b[0m csv_data \u001b[38;5;241m=\u001b[39m \u001b[38;5;124m\"\"\"\u001b[39m\n\u001b[0;32m      5\u001b[0m \u001b[38;5;124m発注番号,F,紙質,巾,流れ,丁取り,罫線,枚数,納期,備考\u001b[39m\n\u001b[0;32m      6\u001b[0m \u001b[38;5;124m250242,W,K5SK5,1250,1250,不明,不明,17,1/19,不明\u001b[39m\n\u001b[1;32m   (...)\u001b[0m\n\u001b[0;32m     11\u001b[0m \u001b[38;5;124m250248,W,C5SC5,1250,1507,不明,不明,16,1/19,不明\u001b[39m\n\u001b[0;32m     12\u001b[0m \u001b[38;5;124m\"\"\"\u001b[39m\n\u001b[0;32m     14\u001b[0m \u001b[38;5;66;03m# CSVデータをPandasのDataFrameに変換\u001b[39;00m\n\u001b[1;32m---> 15\u001b[0m df \u001b[38;5;241m=\u001b[39m pd\u001b[38;5;241m.\u001b[39mread_csv(\u001b[43mpd\u001b[49m\u001b[38;5;241;43m.\u001b[39;49m\u001b[43mcompat\u001b[49m\u001b[38;5;241;43m.\u001b[39;49m\u001b[43mStringIO\u001b[49m(csv_data))\n\u001b[0;32m     17\u001b[0m \u001b[38;5;66;03m# データの表示\u001b[39;00m\n\u001b[0;32m     18\u001b[0m df\n",
      "\u001b[1;31mAttributeError\u001b[0m: module 'pandas.compat' has no attribute 'StringIO'"
     ]
    }
   ],
   "source": [
    "import pandas as pd\n",
    "\n",
    "# 抽出された情報をCSV形式で定義\n",
    "csv_data = \"\"\"\n",
    "発注番号,F,紙質,巾,流れ,丁取り,罫線,枚数,納期,備考\n",
    "250242,W,K5SK5,1250,1250,不明,不明,17,1/19,不明\n",
    "250243,A,K5K5,1250,1240,不明,不明,17,1/19,不明\n",
    "250244,A,K5K5,1200,1550,不明,(124+340+124)=588,101,1/19,不明\n",
    "250245,A,K5K5,1300,1772,不明,不明,12,1/19,不明\n",
    "250246,A,K5K5,1350,995,不明,不明,21,1/19,不明\n",
    "250248,W,C5SC5,1250,1507,不明,不明,16,1/19,不明\n",
    "\"\"\"\n",
    "\n",
    "# CSVデータをPandasのDataFrameに変換\n",
    "df = pd.read_csv(pd.compat.StringIO(csv_data))\n",
    "\n",
    "# データの表示\n",
    "df"
   ]
  },
  {
   "cell_type": "code",
   "execution_count": null,
   "metadata": {},
   "outputs": [],
   "source": []
  },
  {
   "cell_type": "code",
   "execution_count": 39,
   "metadata": {},
   "outputs": [
    {
     "ename": "AttributeError",
     "evalue": "module 'pandas.compat' has no attribute 'StringIO'",
     "output_type": "error",
     "traceback": [
      "\u001b[1;31m---------------------------------------------------------------------------\u001b[0m",
      "\u001b[1;31mAttributeError\u001b[0m                            Traceback (most recent call last)",
      "Cell \u001b[1;32mIn[39], line 10\u001b[0m\n\u001b[0;32m      4\u001b[0m csv_data \u001b[38;5;241m=\u001b[39m \u001b[38;5;124m\"\"\"\u001b[39m\n\u001b[0;32m      5\u001b[0m \u001b[38;5;124m発注番号,F,紙質,巾,流れ,丁取り,罫線,枚数,納期,備考\u001b[39m\n\u001b[0;32m      6\u001b[0m \u001b[38;5;124mP0001/0001,A,C5XC5,950,830,不明,(158+145+158=461),10,23.03.01,#59 用パット\u001b[39m\n\u001b[0;32m      7\u001b[0m \u001b[38;5;124m\"\"\"\u001b[39m\n\u001b[0;32m      9\u001b[0m \u001b[38;5;66;03m# CSVデータをPandasのDataFrameに変換\u001b[39;00m\n\u001b[1;32m---> 10\u001b[0m df \u001b[38;5;241m=\u001b[39m pd\u001b[38;5;241m.\u001b[39mread_csv(\u001b[43mpd\u001b[49m\u001b[38;5;241;43m.\u001b[39;49m\u001b[43mcompat\u001b[49m\u001b[38;5;241;43m.\u001b[39;49m\u001b[43mStringIO\u001b[49m(csv_data))\n\u001b[0;32m     12\u001b[0m \u001b[38;5;66;03m# データの表示\u001b[39;00m\n\u001b[0;32m     13\u001b[0m \u001b[38;5;28mprint\u001b[39m(df)\n",
      "\u001b[1;31mAttributeError\u001b[0m: module 'pandas.compat' has no attribute 'StringIO'"
     ]
    }
   ],
   "source": [
    "import pandas as pd\n",
    "\n",
    "# 抽出された情報をCSV形式で定義\n",
    "csv_data = \"\"\"\n",
    "発注番号,F,紙質,巾,流れ,丁取り,罫線,枚数,納期,備考\n",
    "P0001/0001,A,C5XC5,950,830,不明,(158+145+158=461),10,23.03.01,#59 用パット\n",
    "\"\"\"\n",
    "\n",
    "# CSVデータをPandasのDataFrameに変換\n",
    "df = pd.read_csv(pd.compat.StringIO(csv_data))\n",
    "\n",
    "# データの表示\n",
    "print(df)"
   ]
  },
  {
   "cell_type": "code",
   "execution_count": null,
   "metadata": {},
   "outputs": [],
   "source": []
  },
  {
   "cell_type": "code",
   "execution_count": null,
   "metadata": {},
   "outputs": [],
   "source": []
  },
  {
   "cell_type": "code",
   "execution_count": null,
   "metadata": {},
   "outputs": [],
   "source": []
  }
 ],
 "metadata": {
  "kernelspec": {
   "display_name": "Python 3",
   "language": "python",
   "name": "python3"
  },
  "language_info": {
   "codemirror_mode": {
    "name": "ipython",
    "version": 3
   },
   "file_extension": ".py",
   "mimetype": "text/x-python",
   "name": "python",
   "nbconvert_exporter": "python",
   "pygments_lexer": "ipython3",
   "version": "3.12.0"
  }
 },
 "nbformat": 4,
 "nbformat_minor": 2
}
